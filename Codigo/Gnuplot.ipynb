{
 "cells": [
  {
   "cell_type": "markdown",
   "metadata": {},
   "source": [
    "### Probabilidad de recibir una llamada relacionada a Fuego"
   ]
  },
  {
   "cell_type": "code",
   "execution_count": 36,
   "metadata": {
    "collapsed": false
   },
   "outputs": [
    {
     "data": {
      "image/png": "[encoded data removed]",
      "text/plain": [
       "<IPython.core.display.Image object>"
      ]
     },
     "metadata": {},
     "output_type": "display_data"
    },
    {
     "data": {
      "text/plain": [
       "f(x)=a+b*log(x)\n",
       "a=0\n",
       "b=0\n",
       "set title \"Fire Calls\"\n",
       "set xlabel \"Dia\" \n",
       "set ylabel \"Frecuencia\"\n",
       "fit f(x) 'FireG.txt' via a,b\n",
       "\n",
       "\n",
       " Iteration 0\n",
       " WSSR        : 1.23282e+06       delta(WSSR)/WSSR   : 0\n",
       " delta(WSSR) : 0                 limit for stopping : 1e-05\n",
       " lambda\t  : 1.20109\n",
       "\n",
       "initial set of free parameter values\n",
       "\n",
       "a               = 1e-30\n",
       "b               = 1e-30\n",
       "/\n",
       "\n",
       " Iteration 1\n",
       " WSSR        : 113180            delta(WSSR)/WSSR   : -9.89256\n",
       " delta(WSSR) : -1.11964e+06      limit for stopping : 1e-05\n",
       " lambda\t  : 0.120109\n",
       "\n",
       "resultant parameter values\n",
       "\n",
       "a               = 57.4879\n",
       "b               = -0.00703163\n",
       "/\n",
       "\n",
       " Iteration 2\n",
       " WSSR        : 113084            delta(WSSR)/WSSR   : -0.000849052\n",
       " delta(WSSR) : -96.0141          limit for stopping : 1e-05\n",
       " lambda\t  : 0.0120109\n",
       "\n",
       "resultant parameter values\n",
       "\n",
       "a               = 58.6452\n",
       "b               = -0.754679\n",
       "/\n",
       "\n",
       " Iteration 3\n",
       " WSSR        : 113084            delta(WSSR)/WSSR   : -7.07391e-11\n",
       " delta(WSSR) : -7.99945e-06      limit for stopping : 1e-05\n",
       " lambda\t  : 0.00120109\n",
       "\n",
       "resultant parameter values\n",
       "\n",
       "a               = 58.6456\n",
       "b               = -0.754909\n",
       "\n",
       "After 3 iterations the fit converged.\n",
       "final sum of squares of residuals : 113084\n",
       "rel. change during last iteration : -7.07391e-11\n",
       "\n",
       "degrees of freedom    (FIT_NDF)                        : 334\n",
       "rms of residuals      (FIT_STDFIT) = sqrt(WSSR/ndf)    : 18.4004\n",
       "variance of residuals (reduced chisquare) = WSSR/ndf   : 338.574\n",
       "\n",
       "Final set of parameters            Asymptotic Standard Error\n",
       "=======================            ==========================\n",
       "\n",
       "a               = 58.6456          +/- 2.174        (3.707%)\n",
       "b               = -0.754909        +/- 1.583        (209.7%)\n",
       "\n",
       "\n",
       "correlation matrix of the fit parameters:\n",
       "\n",
       "               a      b      \n",
       "a               1.000 \n",
       "b              -0.887  1.000 \n",
       "set output '/tmp/gnuplot-inline-1478537688.76.219280889571.png'\n",
       "plot \"FireG.txt\" u 1:2 t \"llamada relacionada a Fuego\",f(x) t \"Probabilidad\"\n",
       "unset output\n"
      ]
     },
     "execution_count": 36,
     "metadata": {},
     "output_type": "execute_result"
    }
   ],
   "source": [
    "f(x)=a+b*log(x)\n",
    "a=0\n",
    "b=0\n",
    "set title \"Fire Calls\"\n",
    "set xlabel \"Dia\" \n",
    "set ylabel \"Frecuencia\"\n",
    "fit f(x) 'FireG.txt' via a,b\n",
    "plot \"FireG.txt\" u 1:2 t \"llamada relacionada a Fuego\",f(x) t \"Probabilidad\""
   ]
  },
  {
   "cell_type": "markdown",
   "metadata": {},
   "source": [
    "### Probabilidad de recibir una llamada relacionada con el Trafico"
   ]
  },
  {
   "cell_type": "code",
   "execution_count": 6,
   "metadata": {
    "collapsed": false
   },
   "outputs": [
    {
     "data": {
      "image/png": "[encoded data removed]",
      "text/plain": [
       "<IPython.core.display.Image object>"
      ]
     },
     "metadata": {},
     "output_type": "display_data"
    },
    {
     "data": {
      "text/plain": [
       "f(x)=a+b*log(x)\n",
       "set size nosquare 1,1\n",
       "set title \"Traffic Calls\"\n",
       "set xlabel \"Dia\" \n",
       "set ylabel \"Frecuencia\"\n",
       "a=0\n",
       "b=0\n",
       "fit f(x) 'TrafficG.txt' via a,b\n",
       "\n",
       "\n",
       " Iteration 0\n",
       " WSSR        : 7.12225e+06       delta(WSSR)/WSSR   : 0\n",
       " delta(WSSR) : 0                 limit for stopping : 1e-05\n",
       " lambda\t  : 1.20109\n",
       "\n",
       "initial set of free parameter values\n",
       "\n",
       "a               = 1e-30\n",
       "b               = 1e-30\n",
       "/\n",
       "\n",
       " Iteration 1\n",
       " WSSR        : 752394            delta(WSSR)/WSSR   : -8.46611\n",
       " delta(WSSR) : -6.36986e+06      limit for stopping : 1e-05\n",
       " lambda\t  : 0.120109\n",
       "\n",
       "resultant parameter values\n",
       "\n",
       "a               = 151.384\n",
       "b               = -12.0121\n",
       "/\n",
       "\n",
       " Iteration 2\n",
       " WSSR        : 751658            delta(WSSR)/WSSR   : -0.000979385\n",
       " delta(WSSR) : -736.163          limit for stopping : 1e-05\n",
       " lambda\t  : 0.0120109\n",
       "\n",
       "resultant parameter values\n",
       "\n",
       "a               = 154.588\n",
       "b               = -14.109\n",
       "/\n",
       "\n",
       " Iteration 3\n",
       " WSSR        : 751658            delta(WSSR)/WSSR   : -8.22144e-11\n",
       " delta(WSSR) : -6.17971e-05      limit for stopping : 1e-05\n",
       " lambda\t  : 0.00120109\n",
       "\n",
       "resultant parameter values\n",
       "\n",
       "a               = 154.589\n",
       "b               = -14.1096\n",
       "\n",
       "After 3 iterations the fit converged.\n",
       "final sum of squares of residuals : 751658\n",
       "rel. change during last iteration : -8.22144e-11\n",
       "\n",
       "degrees of freedom    (FIT_NDF)                        : 334\n",
       "rms of residuals      (FIT_STDFIT) = sqrt(WSSR/ndf)    : 47.4392\n",
       "variance of residuals (reduced chisquare) = WSSR/ndf   : 2250.47\n",
       "\n",
       "Final set of parameters            Asymptotic Standard Error\n",
       "=======================            ==========================\n",
       "\n",
       "a               = 154.589          +/- 5.605        (3.626%)\n",
       "b               = -14.1096         +/- 4.082        (28.93%)\n",
       "\n",
       "\n",
       "correlation matrix of the fit parameters:\n",
       "\n",
       "               a      b      \n",
       "a               1.000 \n",
       "b              -0.887  1.000 \n",
       "set output '/tmp/gnuplot-inline-1478538074.94.719945722536.png'\n",
       "plot \"TrafficG.txt\"u 1:2  t \"llamada relacionada a trafico\" ,f(x) t \"Probabilidad\"\n",
       "unset output\n"
      ]
     },
     "execution_count": 6,
     "metadata": {},
     "output_type": "execute_result"
    }
   ],
   "source": [
    "f(x)=a+b*log(x)\n",
    "set size nosquare 1,1\n",
    "set title \"Traffic Calls\"\n",
    "set xlabel \"Dia\" \n",
    "set ylabel \"Frecuencia\"\n",
    "a=0\n",
    "b=0\n",
    "fit f(x) 'TrafficG.txt' via a,b\n",
    "plot \"TrafficG.txt\"u 1:2  t \"llamada relacionada a trafico\" ,f(x) t \"Probabilidad\""
   ]
  },
  {
   "cell_type": "markdown",
   "metadata": {},
   "source": [
    "### Probabilidad de recibir una llamada relacionada a EMS"
   ]
  },
  {
   "cell_type": "code",
   "execution_count": 43,
   "metadata": {
    "collapsed": false
   },
   "outputs": [
    {
     "data": {
      "image/png": "[encoded data removed]",
      "text/plain": [
       "<IPython.core.display.Image object>"
      ]
     },
     "metadata": {},
     "output_type": "display_data"
    },
    {
     "data": {
      "text/plain": [
       "f(x)=a+b*log(x)\n",
       "set title \"EMS Calls\"\n",
       "set xlabel \"Dia\" \n",
       "set ylabel \"Frecuencia\"\n",
       "a=0\n",
       "b=0\n",
       "fit f(x) 'EMSG.txt' via a,b\n",
       "\n",
       "\n",
       " Iteration 0\n",
       " WSSR        : 1.21674e+07       delta(WSSR)/WSSR   : 0\n",
       " delta(WSSR) : 0                 limit for stopping : 1e-05\n",
       " lambda\t  : 1.20109\n",
       "\n",
       "initial set of free parameter values\n",
       "\n",
       "a               = 1e-30\n",
       "b               = 1e-30\n",
       "/\n",
       "\n",
       " Iteration 1\n",
       " WSSR        : 246566            delta(WSSR)/WSSR   : -48.3473\n",
       " delta(WSSR) : -1.19208e+07      limit for stopping : 1e-05\n",
       " lambda\t  : 0.120109\n",
       "\n",
       "resultant parameter values\n",
       "\n",
       "a               = 189.882\n",
       "b               = -1.9312\n",
       "/\n",
       "\n",
       " Iteration 2\n",
       " WSSR        : 245505            delta(WSSR)/WSSR   : -0.00432228\n",
       " delta(WSSR) : -1061.14          limit for stopping : 1e-05\n",
       " lambda\t  : 0.0120109\n",
       "\n",
       "resultant parameter values\n",
       "\n",
       "a               = 193.729\n",
       "b               = -4.42104\n",
       "/\n",
       "\n",
       " Iteration 3\n",
       " WSSR        : 245505            delta(WSSR)/WSSR   : -3.60492e-10\n",
       " delta(WSSR) : -8.85026e-05      limit for stopping : 1e-05\n",
       " lambda\t  : 0.00120109\n",
       "\n",
       "resultant parameter values\n",
       "\n",
       "a               = 193.73\n",
       "b               = -4.42181\n",
       "\n",
       "After 3 iterations the fit converged.\n",
       "final sum of squares of residuals : 245505\n",
       "rel. change during last iteration : -3.60492e-10\n",
       "\n",
       "degrees of freedom    (FIT_NDF)                        : 334\n",
       "rms of residuals      (FIT_STDFIT) = sqrt(WSSR/ndf)    : 27.1117\n",
       "variance of residuals (reduced chisquare) = WSSR/ndf   : 735.045\n",
       "\n",
       "Final set of parameters            Asymptotic Standard Error\n",
       "=======================            ==========================\n",
       "\n",
       "a               = 193.73           +/- 3.203        (1.653%)\n",
       "b               = -4.42181         +/- 2.333        (52.76%)\n",
       "\n",
       "\n",
       "correlation matrix of the fit parameters:\n",
       "\n",
       "               a      b      \n",
       "a               1.000 \n",
       "b              -0.887  1.000 \n",
       "set output '/tmp/gnuplot-inline-1478537810.54.410121406365.png'\n",
       "plot \"EMSG.txt\" u 1:2 t \"llamada relacionada a EMS\",f(x) t \"Probabilidad\"\n",
       "unset output\n"
      ]
     },
     "execution_count": 43,
     "metadata": {},
     "output_type": "execute_result"
    }
   ],
   "source": [
    "f(x)=a+b*log(x)\n",
    "set title \"EMS Calls\"\n",
    "set xlabel \"Dia\" \n",
    "set ylabel \"Frecuencia\"\n",
    "a=0\n",
    "b=0\n",
    "fit f(x) 'EMSG.txt' via a,b\n",
    "plot \"EMSG.txt\" u 1:2 t \"llamada relacionada a EMS\",f(x) t \"Probabilidad\""
   ]
  }
 ],
 "metadata": {
  "kernelspec": {
   "display_name": "gnuplot",
   "language": "gnuplot",
   "name": "gnuplot"
  },
  "language_info": {
   "codemirror_mode": "Octave",
   "file_extension": ".gp",
   "help_links": [
    {
     "text": "MetaKernel Magics",
     "url": "https://github.com/calysto/metakernel/blob/master/metakernel/magics/README.md"
    }
   ],
   "mimetype": "text/x-gnuplot",
   "name": "gnuplot"
  }
 },
 "nbformat": 4,
 "nbformat_minor": 1
}
