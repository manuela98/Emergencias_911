{
 "cells": [
  {
   "cell_type": "markdown",
   "metadata": {},
   "source": [
    "## Instalación\n",
    "Para el correcto funcionamiento del código realizado para este proyecto es necesario seguir las siguientes indicaciones:  \n",
    "1. Instalar los paquetes __`beautifulsoup4`__ y __`Requests`__ en Python: \n",
    " + `pip install beautifulsoup4 Requests`.\n",
    "2. Instalar Numpy.\n",
    " + `sudo pip install numpy`\n",
    "4. Instalar Ipython.\n",
    " + `pip install ipython`\n",
    "6. Clonar el repositorio:\n",
    " + git clone `https://github.com/manuela98/Emergencias_911_.git`\n",
    " \n"
   ]
  },
  {
   "cell_type": "markdown",
   "metadata": {},
   "source": [
    "##  Inicialización  \n",
    "+ Dirijase a la carpeta __Codigo__ y ejecute `descarga.py` para descargar el archivo `tzr.csv` que contienen los datos con los que se trabajara."
   ]
  },
  {
   "cell_type": "code",
   "execution_count": null,
   "metadata": {
    "collapsed": true
   },
   "outputs": [],
   "source": [
    "%%bash\n",
    "python descarga.py \n"
   ]
  },
  {
   "cell_type": "markdown",
   "metadata": {
    "collapsed": true
   },
   "source": [
    "\n",
    "+ Para la extracción y manejo de datos se creó una matriz con los datos necesarios para su correcta consulta,esto se realiza con la función `Datos_necesarios()` ubicada en `consultas.py`"
   ]
  },
  {
   "cell_type": "markdown",
   "metadata": {},
   "source": [
    "## Consulta\n",
    "\n",
    "Para realizar la consulta debe tener en cuenta los siguientes requerimientos:\n",
    "\n",
    "1. Escribir las siguientes lineas de código en una celda posterior a esta:   \n",
    "\n",
    "    `from IPython.display import display, Markdown`  \n",
    "    `import consulta as c`  \n",
    "    `display(Markdown(c.Consulta()))  \n",
    "    `  \n",
    "         \n",
    "2. Al ejecutar la celda, aparecerá un cuadro en el cuál deberá ingresar el tipo de dato que desea buscar. Inmediatamente despues aparecerá otro cuadro en donde debe ingresar lo que desea buscar. Las opciones son las siguites:\n",
    "    + __Tittle__ : Sí su búsqueda es por tipo de emergencia.\n",
    "        + Ejemplos: EMS, Fire, Traffic\n",
    "    + __Description__ :  Sí su búsqueda es por descripción de la emergencia.\n",
    "        + Ejemplos: FALL VICTIM , RESPIRATORY EMERGENCY , VEHICLE ACCIDENT\n",
    "    + __Date__ : Sí su búsqueda es por le fecha en que ocurrió la llamada.\n",
    "        + Ejemplos: 2015-12-10 , 2015-10-10\n",
    "    + __Hour__ : Sí su búsqueda es por la hora en que ocurrió la llamada.\n",
    "        + Ejemplos: 08:07:00 , 08:47:13\n",
    "1. Si ha realizado la búsqueda de manera correcta se mostrará una tabla con las coincidencias del dato ingresado. la tabla le brindará una información completa que contiene Titulo, descripción, fecha y hora independientemente de cual haya sido el tipo de dato a buscar.\n",
    "\n",
    "    "
   ]
  },
  {
   "cell_type": "code",
   "execution_count": 1,
   "metadata": {
    "collapsed": false
   },
   "outputs": [
    {
     "name": "stdout",
     "output_type": "stream",
     "text": [
      "Ingrese Tittle,Description,Date o Hour segun el dato que desea buscar: Date\n",
      "Ingrese el dato que desea buscar: 2015-12-10\n",
      "Buscando... Por favor espere.\n",
      "Debido al tipo de dato este proceso puede tardar un par de minutos\n"
     ]
    },
    {
     "data": {
      "text/markdown": [
       "|Tittle|Description|Date|Hour|  \n",
       "|---|---|---|---|  \n",
       "|EMS|BACK PAINS/INJURY|2015-12-10|17:40:00|  \n",
       "|EMS|DIABETIC EMERGENCY|2015-12-10|17:40:00|  \n",
       "|Fire|GAS-ODOR/LEAK|2015-12-10|17:40:00|  \n",
       "|EMS|CARDIAC EMERGENCY|2015-12-10|17:40:01|  \n",
       "|EMS|DIZZINESS|2015-12-10|17:40:01|  \n",
       "|EMS|HEAD INJURY|2015-12-10|17:40:01|  \n",
       "|EMS|NAUSEA/VOMITING|2015-12-10|17:40:01|  \n",
       "|EMS|RESPIRATORY EMERGENCY|2015-12-10|17:40:01|  \n",
       "|EMS|SYNCOPAL EPISODE|2015-12-10|17:40:01|  \n",
       "|Traffic|VEHICLE ACCIDENT -|2015-12-10|17:40:01|  \n",
       "|Traffic|VEHICLE ACCIDENT -|2015-12-10|17:40:01|  \n",
       "|Traffic|VEHICLE ACCIDENT -|2015-12-10|17:40:02|  \n",
       "|Traffic|VEHICLE ACCIDENT -|2015-12-10|17:40:02|  \n",
       "|Traffic|VEHICLE ACCIDENT -|2015-12-10|17:40:02|  \n",
       "|Traffic|VEHICLE ACCIDENT -|2015-12-10|17:40:02|  \n",
       "|Traffic|VEHICLE ACCIDENT -|2015-12-10|17:40:02|  \n",
       "|EMS|RESPIRATORY EMERGENCY|2015-12-10|17:46:01|  \n",
       "|EMS|DIZZINESS|2015-12-10|17:47:01|  \n",
       "|EMS|VEHICLE ACCIDENT|2015-12-10|17:47:01|  \n",
       "|Traffic|DISABLED VEHICLE -|2015-12-10|17:47:02|  \n",
       "|Traffic|VEHICLE ACCIDENT -|2015-12-10|17:47:02|  \n",
       "|Traffic|DISABLED VEHICLE -|2015-12-10|17:57:02|  \n",
       "|Fire|APPLIANCE FIRE|2015-12-10|18:02:01|  \n",
       "|Traffic|DISABLED VEHICLE -|2015-12-10|18:02:02|  \n",
       "|Traffic|VEHICLE ACCIDENT -|2015-12-10|18:02:02|  \n",
       "|EMS|GENERAL WEAKNESS|2015-12-10|18:06:25|  \n",
       "|EMS|HEAD INJURY|2015-12-10|18:06:25|  \n",
       "|Fire|CARBON MONOXIDE DETECTOR|2015-12-10|18:06:25|  \n",
       "|Traffic|VEHICLE ACCIDENT -|2015-12-10|18:06:26|  \n",
       "|Traffic|DISABLED VEHICLE -|2015-12-10|18:11:01|  \n",
       "|Traffic|VEHICLE ACCIDENT -|2015-12-10|18:11:01|  \n",
       "|EMS|RESPIRATORY EMERGENCY|2015-12-10|18:12:01|  \n",
       "|EMS|UNKNOWN MEDICAL EMERGENCY|2015-12-10|18:22:00|  \n",
       "|Traffic|DISABLED VEHICLE -|2015-12-10|18:22:01|  \n",
       "|Traffic|DISABLED VEHICLE -|2015-12-10|18:26:02|  \n",
       "|Traffic|VEHICLE ACCIDENT -|2015-12-10|18:26:02|  \n",
       "|Traffic|DISABLED VEHICLE -|2015-12-10|18:27:01|  \n",
       "|Traffic|DISABLED VEHICLE -|2015-12-10|18:27:02|  \n",
       "|Traffic|VEHICLE ACCIDENT -|2015-12-10|18:27:02|  \n",
       "|EMS|VEHICLE ACCIDENT|2015-12-10|18:32:02|  \n",
       "|Traffic|VEHICLE ACCIDENT -|2015-12-10|18:32:02|  \n",
       "|Fire|GAS-ODOR/LEAK|2015-12-10|18:37:01|  \n",
       "|EMS|UNRESPONSIVE SUBJECT|2015-12-10|18:42:00|  \n",
       "|Traffic|VEHICLE ACCIDENT -|2015-12-10|18:42:01|  \n",
       "|EMS|CARDIAC EMERGENCY|2015-12-10|18:47:01|  \n",
       "|Traffic|VEHICLE ACCIDENT -|2015-12-10|18:51:01|  \n",
       "|EMS|VEHICLE ACCIDENT|2015-12-10|18:52:00|  \n",
       "|Fire|VEHICLE ACCIDENT|2015-12-10|18:52:00|  \n",
       "|Traffic|VEHICLE ACCIDENT -|2015-12-10|18:56:02|  \n",
       "|Traffic|VEHICLE ACCIDENT -|2015-12-10|18:56:02|  \n",
       "|EMS|ALTERED MENTAL STATUS|2015-12-10|19:01:02|  \n",
       "|Fire|FIRE ALARM|2015-12-10|19:02:01|  \n",
       "|Traffic|VEHICLE ACCIDENT -|2015-12-10|19:11:01|  \n",
       "|EMS|CVA/STROKE|2015-12-10|19:12:01|  \n",
       "|Fire|FIRE ALARM|2015-12-10|19:12:01|  \n",
       "|Traffic|ROAD OBSTRUCTION -|2015-12-10|19:12:01|  \n",
       "|EMS|UNKNOWN MEDICAL EMERGENCY|2015-12-10|19:26:02|  \n",
       "|EMS|CVA/STROKE|2015-12-10|19:26:03|  \n",
       "|EMS|SUBJECT IN PAIN|2015-12-10|19:26:03|  \n",
       "|EMS|SUBJECT IN PAIN|2015-12-10|19:26:03|  \n",
       "|Traffic|DISABLED VEHICLE -|2015-12-10|19:26:04|  \n",
       "|Traffic|DISABLED VEHICLE -|2015-12-10|19:26:04|  \n",
       "|Traffic|VEHICLE ACCIDENT -|2015-12-10|19:26:05|  \n",
       "|EMS|HEMORRHAGING|2015-12-10|19:27:01|  \n",
       "|EMS|UNKNOWN MEDICAL EMERGENCY|2015-12-10|19:27:01|  \n",
       "|EMS|FALL VICTIM|2015-12-10|19:27:02|  \n",
       "|EMS|RESPIRATORY EMERGENCY|2015-12-10|19:27:02|  \n",
       "|EMS|ASSAULT VICTIM|2015-12-10|19:39:55|  \n",
       "|EMS|FALL VICTIM|2015-12-10|19:42:03|  \n",
       "|EMS|RESPIRATORY EMERGENCY|2015-12-10|19:47:01|  \n",
       "|EMS|SUBJECT IN PAIN|2015-12-10|19:52:01|  \n",
       "|EMS|SEIZURES|2015-12-10|19:57:01|  \n",
       "|Fire|GAS-ODOR/LEAK|2015-12-10|20:06:01|  \n",
       "|EMS|DIABETIC EMERGENCY|2015-12-10|20:07:01|  \n",
       "|EMS|SUBJECT IN PAIN|2015-12-10|20:12:01|  \n",
       "|EMS|UNKNOWN MEDICAL EMERGENCY|2015-12-10|20:12:01|  \n",
       "|EMS|HEAD INJURY|2015-12-10|20:12:02|  \n",
       "|Traffic|VEHICLE ACCIDENT -|2015-12-10|20:12:03|  \n",
       "|Traffic|DISABLED VEHICLE -|2015-12-10|20:27:02|  \n",
       "|EMS|FALL VICTIM|2015-12-10|20:31:01|  \n",
       "|EMS|FALL VICTIM|2015-12-10|20:31:01|  \n",
       "|Traffic|VEHICLE ACCIDENT -|2015-12-10|20:41:02|  \n",
       "|EMS|SYNCOPAL EPISODE|2015-12-10|20:47:01|  \n",
       "|Fire|CARBON MONOXIDE DETECTOR|2015-12-10|20:47:01|  \n",
       "|EMS|MEDICAL ALERT ALARM|2015-12-10|20:52:02|  \n",
       "|EMS|RESPIRATORY EMERGENCY|2015-12-10|20:52:02|  \n",
       "|EMS|ABDOMINAL PAINS|2015-12-10|20:57:01|  \n",
       "|Fire|FIRE ALARM|2015-12-10|21:07:01|  \n",
       "|EMS|RESPIRATORY EMERGENCY|2015-12-10|21:12:01|  \n",
       "|EMS|UNRESPONSIVE SUBJECT|2015-12-10|21:17:02|  \n",
       "|Traffic|ROAD OBSTRUCTION -|2015-12-10|21:22:00|  \n",
       "|Fire|PUMP DETAIL|2015-12-10|21:27:01|  \n",
       "|Traffic|VEHICLE ACCIDENT -|2015-12-10|21:37:01|  \n",
       "|Fire|FIRE INVESTIGATION|2015-12-10|21:41:00|  \n",
       "|Traffic|VEHICLE ACCIDENT -|2015-12-10|21:47:01|  \n",
       "|Traffic|DISABLED VEHICLE -|2015-12-10|21:52:01|  \n",
       "|Traffic|DISABLED VEHICLE -|2015-12-10|22:01:01|  \n",
       "|Traffic|VEHICLE ACCIDENT -|2015-12-10|22:02:01|  \n",
       "|EMS|CVA/STROKE|2015-12-10|22:07:02|  \n",
       "|EMS|FALL VICTIM|2015-12-10|22:27:01|  \n",
       "|EMS|SEIZURES|2015-12-10|22:27:02|  \n",
       "|EMS|CARDIAC EMERGENCY|2015-12-10|22:32:01|  \n",
       "|EMS|OVERDOSE|2015-12-10|22:32:01|  \n",
       "|Fire|FIRE ALARM|2015-12-10|22:37:01|  \n",
       "|Traffic|VEHICLE ACCIDENT -|2015-12-10|22:47:02|  \n",
       "|EMS|FALL VICTIM|2015-12-10|22:56:01|  \n",
       "|Fire|GAS-ODOR/LEAK|2015-12-10|22:56:01|  \n",
       "|EMS|ABDOMINAL PAINS|2015-12-10|22:57:01|  \n",
       "|Fire|FIRE ALARM|2015-12-10|23:07:01|  \n",
       "|Traffic|DISABLED VEHICLE -|2015-12-10|23:07:02|  \n",
       "|EMS|SUBJECT IN PAIN|2015-12-10|23:12:00|  \n",
       "|EMS|RESPIRATORY EMERGENCY|2015-12-10|23:12:01|  \n",
       "|EMS|NAUSEA/VOMITING|2015-12-10|23:22:01|  \n",
       "|EMS|ABDOMINAL PAINS|2015-12-10|23:37:00|  \n",
       "|Traffic|DISABLED VEHICLE -|2015-12-10|23:47:02|  \n"
      ],
      "text/plain": [
       "<IPython.core.display.Markdown object>"
      ]
     },
     "metadata": {},
     "output_type": "display_data"
    }
   ],
   "source": [
    "#Ejemplo \n",
    "from IPython.display import display, Markdown\n",
    "import nconsulta as c\n",
    "display(Markdown(c.mark(c.Consulta())))\n"
   ]
  },
  {
   "cell_type": "markdown",
   "metadata": {},
   "source": [
    "## ¿Cómo funciona el programa?\n",
    "\n",
    "Los códigos realizados para este proyecto de aula estan implementados en python y utilizan los siguientes paquetes:  \n",
    " + __Requests__\n",
    " + __Beautifulsoup4__\n",
    " + __Webbrowser__\n",
    " + __numpy__\n",
    " + __display__\n",
    " + __Markdown__\n",
    " \n",
    "## descarga.py \n",
    "Este archivo es el encargado de la extracción web de la base de datos que se descargará como archivo de texto plano con el nombre de __`tzr.csv`__.  \n",
    "  \n",
    "  \n",
    "  \n",
    "Este código ingresa a la página http://montcoalert.org/gettingdata/ que es nuestra fuente de datos y busca la url del archivo `tzr.csv` que esta nos facilita y lo descarga en el directorio `Codigo`.\n",
    "\n",
    "## consulta.py \n",
    "\n",
    "Este archivo contiene dos funciones:\n",
    "+ `Datos_necesarios()`:Carga el archivo de texto a una matriz y luego selecciona las columnas de los datos con mas relevancia en este caso y lo carga a la matriz  donde se realiza la consulta.\n",
    "+ `Consulta()`:Solicita al usuario que ingrese el tipo de dato y el dato de búsqueda,luego llama a la función `Datos_necesarios()` que se encarga de buscar las coincidencias del dato ingresado en la matriz. Inmediatamente después genera una tabla markdown con los resultados de la búsqueda.\n"
   ]
  },
  {
   "cell_type": "markdown",
   "metadata": {},
   "source": [
    "# Entrega 2\n",
    "Despúes de realizar la instalacion,inicializacion indicadas anteriormente(si no esta en el directorio Codigo dirigase a el) y ejecute GenArEst.py como se muestra a continuación."
   ]
  },
  {
   "cell_type": "markdown",
   "metadata": {},
   "source": [
    "%%bash \n",
    "python GenArEst.py"
   ]
  },
  {
   "cell_type": "markdown",
   "metadata": {},
   "source": [
    "El codigo contenido en  GenArEst.py lo que hara es generar una serie de archivos- necesarios para las estadisticas descriptiva e inferencial."
   ]
  },
  {
   "cell_type": "markdown",
   "metadata": {},
   "source": [
    "## Estadistica descriptiva:\n",
    "Se tomo un conjunto de datos de interes para realizar estadistica basica con r(media,max,min,desviacion estandar)tanto por dias como por meses:"
   ]
  },
  {
   "cell_type": "code",
   "execution_count": 7,
   "metadata": {
    "collapsed": false
   },
   "outputs": [
    {
     "name": "stdout",
     "output_type": "stream",
     "text": [
      "[1] \"--------------------------------------------------------------------------------------------\"\n",
      "[1] \"En este archivo se realiza la Estadistica Descriptiva de los diferentes variables y resumenes\"\n",
      "[1] \"--------------------------------------------------------------------------------------------\"\n",
      "[1] \"--Mínimo y el máximo valor, los quantiles 1 y 3, la mediana y la media,resumen de datos:\"\n",
      "     title                      description            Date       \n",
      " EMS    :61444   VEHICLE ACCIDENT -   :29243   2016-01-23:   913  \n",
      " Fire   :18819   DISABLED VEHICLE -   : 9519   2016-02-24:   679  \n",
      " Traffic:44760   VEHICLE ACCIDENT     : 7108   2016-01-24:   662  \n",
      "                 FIRE ALARM           : 7089   2016-01-12:   588  \n",
      "                 RESPIRATORY EMERGENCY: 6294   2016-04-03:   586  \n",
      "                 CARDIAC EMERGENCY    : 6225   2016-07-25:   580  \n",
      "                 (Other)              :59545   (Other)   :121015  \n",
      "       Hour               Day            Month      \n",
      " 16:47:01:   285   Friday   :19027   Jan    :13205  \n",
      " 16:17:01:   280   Monday   :18224   Jul    :12137  \n",
      " 15:42:01:   279   Saturday :16626   Aug    :11965  \n",
      " 16:22:01:   279   Sunday   :15048   Jun    :11786  \n",
      " 17:22:01:   276   Thursday :18636   Sep    :11720  \n",
      " 17:42:01:   267   Tuesday  :18652   Feb    :11467  \n",
      " (Other) :123357   Wednesday:18810   (Other):52743  \n",
      "\n",
      "   Friday    Monday  Saturday    Sunday  Thursday   Tuesday Wednesday \n",
      "    19027     18224     16626     15048     18636     18652     18810 \n",
      "[1] 17860.43\n",
      "[1] \"Dia en el que mas se presentan las llamadas\"\n",
      "[1] \"Friday\"\n",
      "[1] \"A continuacion se muestran algunos datos estadisticas  de las llamadas por mes\"\n",
      "[1] \"Jan\"\n",
      "[1] \"Media de las llamadas por mes \"\n",
      "[1] 11365.73\n",
      "[1] \"Maximo \"\n",
      "[1] 13205\n",
      "[1] \"Minimo\"\n",
      "[1] 7969\n",
      "[1] \"Desviacion estandar\"\n",
      "[1] 1282.853\n",
      "      Dec \n",
      "-6518.853 \n",
      "null device \n",
      "          1 \n",
      "[1] \"Resumen de llamadas por  victimas(Fall victim)por mes \"\n",
      "         Victim         Month     \n",
      " FALL VICTIM:6149   Jan    : 669  \n",
      "                    Jul    : 630  \n",
      "                    May    : 585  \n",
      "                    Aug    : 572  \n",
      "                    Jun    : 569  \n",
      "                    Oct    : 567  \n",
      "                    (Other):2557  \n",
      "null device \n",
      "          1 \n",
      "[1] \"Resumen de llamadas por reacciones alergicas por mes\"\n",
      "              Allergic       Month    \n",
      " ALLERGIC REACTION:552   Aug    : 85  \n",
      "                         Jul    : 62  \n",
      "                         Jun    : 56  \n",
      "                         Apr    : 47  \n",
      "                         May    : 47  \n",
      "                         Sep    : 47  \n",
      "                         (Other):208  \n",
      "null device \n",
      "          1 \n"
     ]
    }
   ],
   "source": [
    "%%bash \n",
    "Rscript Descriptiva.R #Estes archivo contiene el codigo que genera la estadistica y las imagenes."
   ]
  },
  {
   "cell_type": "markdown",
   "metadata": {},
   "source": [
    "## Estadistica inferencial:\n",
    "Este avance de estadistica inferencial se realizaron los promedios por dia y  mes de algunas variables y este es un  aproximado de lo que se pasara en los proximos:\n",
    "ejemplo:"
   ]
  },
  {
   "cell_type": "markdown",
   "metadata": {},
   "source": [
    "Promedio de llamadas de cada mes:\n",
    "![llamadas](promllamadaspormes.jpg)"
   ]
  },
  {
   "cell_type": "markdown",
   "metadata": {},
   "source": [
    "Promedio de llamadas por reacciones alergias por mes:\n",
    "![llamadas](Alergiasmes.jpg)"
   ]
  },
  {
   "cell_type": "markdown",
   "metadata": {},
   "source": [
    "Promedio de llamadas por victimas fatales por mes:\n",
    "![llamadas](Alergiasmes.jpg)"
   ]
  },
  {
   "cell_type": "markdown",
   "metadata": {},
   "source": [
    "Otros graficos en https://github.com/manuela98/Emergencias_911_/blob/master/Codigo/Estadistica.ipynb"
   ]
  },
  {
   "cell_type": "code",
   "execution_count": null,
   "metadata": {
    "collapsed": true
   },
   "outputs": [],
   "source": []
  }
 ],
 "metadata": {
  "kernelspec": {
   "display_name": "Python [Root]",
   "language": "python",
   "name": "Python [Root]"
  },
  "language_info": {
   "codemirror_mode": {
    "name": "ipython",
    "version": 2
   },
   "file_extension": ".py",
   "mimetype": "text/x-python",
   "name": "python",
   "nbconvert_exporter": "python",
   "pygments_lexer": "ipython2",
   "version": "2.7.12"
  }
 },
 "nbformat": 4,
 "nbformat_minor": 0
}
